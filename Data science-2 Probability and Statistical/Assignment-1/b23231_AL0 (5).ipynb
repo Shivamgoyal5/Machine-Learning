{
 "cells": [
  {
   "cell_type": "markdown",
   "metadata": {},
   "source": [
    "Assignment 0"
   ]
  },
  {
   "cell_type": "markdown",
   "metadata": {},
   "source": [
    "Question 1: Find out the size of array ’a’, ’b’, and ’c’. In the following code block."
   ]
  },
  {
   "cell_type": "code",
   "execution_count": null,
   "metadata": {},
   "outputs": [],
   "source": [
    "import numpy as np\n",
    "a = np . array (42)\n",
    "b = np . array ([1 , 2, 3 , 4 , 5])\n",
    "c = np . array ([[1 , 2, 3] , [4 , 5, 6]])\n",
    "# Print size of all arrays\n",
    "size=[]\n",
    "x=c\n",
    "for m in [a,b,c]:\n",
    "    count=0\n",
    "    for i in m:\n",
    "        try:\n",
    "            for j in i:\n",
    "                count+=1\n",
    "        except:\n",
    "            count+=1\n",
    "    print(f'Size of the array {m} is {count}')"
   ]
  },
  {
   "cell_type": "markdown",
   "metadata": {},
   "source": [
    "Here, I have used a counter to count the number of elements by iterating over each element of the array a,b,c."
   ]
  },
  {
   "cell_type": "markdown",
   "metadata": {},
   "source": [
    "Question 2: Bins! Yes binning might be tricky if you want to plot meaningful plots, in the below histogram choose an\n",
    "appropriate binning size, expiriment with the bins style, location, borders and colors. Explore the np.arange function. Add meaningful labels to both axes.\n"
   ]
  },
  {
   "cell_type": "code",
   "execution_count": null,
   "metadata": {},
   "outputs": [],
   "source": [
    "import numpy as np\n",
    "import matplotlib.pyplot as plt\n",
    "val = np.random.normal(size =(100) , scale =3 , loc =8)\n",
    "bins =np. arange (0 ,20 ,1)\n",
    "plt.hist ( val , bins =20, color= 'r', edgecolor= 'blue')\n",
    "plt.xlabel('X-axis')\n",
    "plt.ylabel('Y-axis')\n",
    "plt.show ()"
   ]
  },
  {
   "cell_type": "markdown",
   "metadata": {},
   "source": [
    "1. np.random.normal generates random numbers from a normal distribution.\n",
    "size parameter specifies the number of random numbers to generate.\n",
    "scale parameter specifies the standard deviation of the distribution.\n",
    "loc parameter specifies the mean of the distribution.\n",
    "2. np.arange creates an array of values from 0 to 20 with a step of 1.\n",
    "These values represent the bins for the histogram.\n",
    "plt.hist creates a histogram plot.\n",
    "val: The data array to plot.\n",
    "bins: The number of bins for the histogram.\n",
    "color: The color of the bars in the histogram.\n",
    "edgecolor: The color of the edges of the bars in the histogram.\n"
   ]
  },
  {
   "cell_type": "markdown",
   "metadata": {},
   "source": [
    "Question 3: Array adressing and slicing. As the dimensions of the array increase it becomes very important how one indexes\n",
    "those arrays, slicing becomes important when one wants to get some desired subpart of a whole array. This Question has two parts."
   ]
  },
  {
   "cell_type": "markdown",
   "metadata": {},
   "source": [
    "3.1. Print the sum of left diagonal and right diagonal of a square matrix."
   ]
  },
  {
   "cell_type": "code",
   "execution_count": null,
   "metadata": {},
   "outputs": [],
   "source": [
    "import numpy as np\n",
    "mat = np.array ([[1 ,3 ,4 ,5 ,2] ,[1 ,5 ,2 ,4 ,3] ,[5 ,2 ,3 ,4 ,1 ] ,[1 ,4 ,2 ,6 ,9] ,[4 ,5 ,2 ,1 ,7]])\n",
    "def left_diagonal_sum (mat):\n",
    "    sum=0\n",
    "    for i in range(len(mat)):\n",
    "        for j in range(len(mat[i])):\n",
    "            if i==j:\n",
    "                sum=mat[i][j]+sum\n",
    "    return sum\n",
    "pass\n",
    "def right_diagonal_sum (mat):\n",
    "    sum=0\n",
    "    for i in range(len(mat)):\n",
    "        for j in range(len(mat[i])):\n",
    "            if i+j==(len(mat)-1):\n",
    "                sum=sum+mat[i][j]\n",
    "    return sum\n",
    "pass\n",
    "print(f'Left Diagonal Sum of \\n { mat =} is { left_diagonal_sum(mat)}')\n",
    "print(f'Left Diagonal Sum of \\n { mat =} is { right_diagonal_sum(mat)}')\n",
    "\n"
   ]
  },
  {
   "cell_type": "markdown",
   "metadata": {},
   "source": []
  },
  {
   "cell_type": "markdown",
   "metadata": {},
   "source": [
    "1. left_diagonal_sum(mat) Function:\n",
    "This function calculates the sum of the elements along the left diagonal of the matrix mat.\n",
    "It initializes a variable sum to store the cumulative sum.\n",
    "It iterates through each row and column of the matrix using nested for loops.\n",
    "For each element in the matrix, if the row index i is equal to the column index j, it means the element is on the left diagonal, and the value of the element is added to the sum.\n",
    "After traversing the entire matrix, the function returns the final sum.\n",
    "\n",
    "2. right_diagonal_sum(mat) Function:\n",
    "This function calculates the sum of the elements along the right diagonal of the matrix mat.\n",
    "Similar to the previous function, it initializes a variable sum to store the cumulative sum.\n",
    "It iterates through each row and column of the matrix using nested for loops.\n",
    "For each element in the matrix, if the sum of the row index i and column index j is equal to the length of the matrix minus one (indicating it's on the right diagonal), it adds the value of the element to the sum.\n",
    "After traversing the entire matrix, the function returns the final sum."
   ]
  },
  {
   "cell_type": "markdown",
   "metadata": {},
   "source": [
    "3.2. From the matrix of previous part, print the 3x4 sub-matrix from 1st row 2nd column to 3rd row 5th column. Make use of the array slicing operations preferably , use of for loops is discouraged.\n"
   ]
  },
  {
   "cell_type": "code",
   "execution_count": null,
   "metadata": {},
   "outputs": [],
   "source": [
    "def submatrix_3x4(mat):\n",
    "     sub_mat=mat[0:3, 1:5]\n",
    "     return sub_mat\n",
    "pass\n",
    "print (f'The desired submatrix of \\n { mat } is \\n {submatrix_3x4(mat)}')"
   ]
  },
  {
   "cell_type": "markdown",
   "metadata": {},
   "source": [
    "submatrix_3x4(mat) Function:\n",
    "\n",
    "This function takes a matrix mat as input.\n",
    "It uses slicing to extract a submatrix from the original matrix. Specifically, it selects rows 0 to 2 (inclusive) and columns 1 to 4 (inclusive), effectively extracting a 3x4 submatrix.\n",
    "The extracted submatrix is then returned."
   ]
  },
  {
   "cell_type": "markdown",
   "metadata": {},
   "source": [
    "Question 4:  array operations in np.array and np math functions. Plot the function: $$ f(x) = {sin^7(x) + cos^5(x) \\over e^x}$$ in the  domain: $$x \\in [0,4]$$ Do not use for loops for the same. "
   ]
  },
  {
   "cell_type": "code",
   "execution_count": null,
   "metadata": {},
   "outputs": [],
   "source": [
    "import numpy as np\n",
    "import matplotlib.pyplot as plt\n",
    "def f(x: np.ndarray) -> np.ndarray:\n",
    "    return ((np.sin(x))**7+(np.cos(x))**5)/np.exp(x)\n",
    "steps =0.1 # experiment how step size matters in the graph shape\n",
    "x= np.arange(0 ,4 , steps )\n",
    "y= f(x)\n",
    "plt.plot(x,y, color=\"hotpink\") # label the axes , and choose appropriate plot format and style\n",
    "plt.show()"
   ]
  },
  {
   "cell_type": "markdown",
   "metadata": {},
   "source": [
    "1. def f(x: np.ndarray) -> np.ndarray: This line defines a function f(x) that takes a NumPy array x as input and returns a NumPy array of the same shape containing the calculated function values.\n",
    "\n",
    "2. The function f(x) calculates the values of the mathematical function for each element of the input array x using NumPy's mathematical functions (np.sin(), np.cos(), and np.exp()).\n",
    "\n",
    "3. steps = 0.1: This line defines the step size for generating the values of x. Smaller step sizes result in a denser set of x values, leading to a smoother plot.\n",
    "\n",
    "4. x = np.arange(0, 4, steps): This line generates an array of x values ranging from 0 to 4 (exclusive) with the specified step size.\n",
    "\n",
    "5. plt.plot(x, y, color=\"hotpink\"): This line creates a plot of the function values using Matplotlib's plot() function. It specifies the x and y values to plot, and also sets the color of the plot to \"hotpink\".\n",
    "\n",
    "6. plt.show(): This line displays the plot generated by Matplotlib."
   ]
  },
  {
   "cell_type": "markdown",
   "metadata": {},
   "source": [
    "Question 5: Create a subplot with two plots side by side. Plot a sine wave in the first subplot. Plot a cosine wave in the\n",
    "second subplot. Add labels, titles, and a legend to the plots."
   ]
  },
  {
   "cell_type": "code",
   "execution_count": null,
   "metadata": {},
   "outputs": [],
   "source": [
    "import numpy as np\n",
    "import matplotlib.pyplot as plt\n",
    "x = np.linspace(0, 2*np.pi, 100)\n",
    "y1 = np.sin(x)\n",
    "y2 = np.cos(x)\n",
    "plt.figure(figsize=(10, 5))\n",
    "#sin\n",
    "plt.subplot(1, 2, 1)  \n",
    "plt.plot(x, y1, label='Sine Wave', color='hotpink')\n",
    "plt.xlabel('X')\n",
    "plt.ylabel('Amplitude')\n",
    "plt.title('Sine Wave Plot')\n",
    "plt.legend()\n",
    "\n",
    "#cos\n",
    "plt.subplot(1, 2, 2)  \n",
    "plt.plot(x, y2, label='Cosine Wave', color='hotpink')\n",
    "plt.xlabel('X')\n",
    "plt.ylabel('Amplitude')\n",
    "plt.title('Cosine Wave Plot')\n",
    "plt.legend()\n",
    "\n",
    "plt.tight_layout()\n",
    "plt.show()\n"
   ]
  },
  {
   "cell_type": "markdown",
   "metadata": {},
   "source": [
    "1. x = np.linspace(0, 2*np.pi, 100): Generates 100 evenly spaced points between 0 and  2π (inclusive), representing the x-values for both sine and cosine waves.\n",
    "\n",
    "2. y1 = np.sin(x): Calculates the y-values for the sine wave using NumPy's sin() function.\n",
    "\n",
    "3. y2 = np.cos(x): Calculates the y-values for the cosine wave using NumPy's cos() function.\n",
    "\n",
    "4. plt.figure(figsize=(10, 5)): Creates a new figure with a specific size (10 inches wide and 5 inches tall).\n",
    "\n",
    "5. plt.subplot(1, 2, 1): Creates the first subplot in a 1x2 grid (1 row, 2 columns) and activates it for plotting. The subsequent plotting commands will affect this subplot.\n",
    "\n",
    "6. plt.plot(x, y1, label='Sine Wave', color='hotpink'): Plots the sine wave using the x-values from x and the corresponding y-values from y1. It sets the label to 'Sine Wave' and the color to 'hotpink'.\n",
    "\n",
    "7. plt.subplot(1, 2, 2): Creates the second subplot in the same grid configuration and activates it for plotting.\n",
    "\n",
    "8. plt.plot(x, y2, label='Cosine Wave', color='hotpink'): Plots the cosine wave using the x-values from x and the corresponding y-values from y2. It sets the label to 'Cosine Wave' and the color to 'hotpink'.\n",
    "\n",
    "9. plt.xlabel('X') and plt.ylabel('Amplitude'): Sets the labels for the x-axis and y-axis, respectively, for both subplots.\n",
    "\n",
    "10. plt.title('Sine Wave Plot') and plt.title('Cosine Wave Plot'): Sets the titles for each subplot.\n",
    "\n",
    "11. plt.legend(): Adds a legend to each subplot, displaying the labels specified in the plot() commands.\n",
    "\n",
    "12. plt.tight_layout(): Automatically adjusts subplot parameters to give specified padding.\n",
    "\n",
    "13. plt.show(): Displays the plot."
   ]
  }
 ],
 "metadata": {
  "language_info": {
   "name": "python"
  }
 },
 "nbformat": 4,
 "nbformat_minor": 2
}
